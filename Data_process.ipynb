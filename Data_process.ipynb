{
  "nbformat": 4,
  "nbformat_minor": 0,
  "metadata": {
    "colab": {
      "name": "Data_process",
      "provenance": [],
      "collapsed_sections": [],
      "include_colab_link": true
    },
    "kernelspec": {
      "name": "python3",
      "display_name": "Python 3"
    }
  },
  "cells": [
    {
      "cell_type": "markdown",
      "metadata": {
        "id": "view-in-github",
        "colab_type": "text"
      },
      "source": [
        "<a href=\"https://colab.research.google.com/github/yingchengsun/AI-Job-Notes/blob/master/Data_process.ipynb\" target=\"_parent\"><img src=\"https://colab.research.google.com/assets/colab-badge.svg\" alt=\"Open In Colab\"/></a>"
      ]
    },
    {
      "cell_type": "code",
      "metadata": {
        "id": "nLIyqeyhguO2",
        "colab_type": "code",
        "outputId": "4d2dd193-db5d-4395-a094-0bbe6b2638c6",
        "colab": {
          "base_uri": "https://localhost:8080/",
          "height": 127
        }
      },
      "source": [
        "from google.colab import drive\n",
        "drive.mount('/content/drive')\n"
      ],
      "execution_count": 0,
      "outputs": [
        {
          "output_type": "stream",
          "text": [
            "Go to this URL in a browser: https://accounts.google.com/o/oauth2/auth?client_id=947318989803-6bn6qk8qdgf4n4g3pfee6491hc0brc4i.apps.googleusercontent.com&redirect_uri=urn%3Aietf%3Awg%3Aoauth%3A2.0%3Aoob&scope=email%20https%3A%2F%2Fwww.googleapis.com%2Fauth%2Fdocs.test%20https%3A%2F%2Fwww.googleapis.com%2Fauth%2Fdrive%20https%3A%2F%2Fwww.googleapis.com%2Fauth%2Fdrive.photos.readonly%20https%3A%2F%2Fwww.googleapis.com%2Fauth%2Fpeopleapi.readonly&response_type=code\n",
            "\n",
            "Enter your authorization code:\n",
            "··········\n",
            "Mounted at /content/drive\n"
          ],
          "name": "stdout"
        }
      ]
    },
    {
      "cell_type": "code",
      "metadata": {
        "id": "aS4SKFQCKS13",
        "colab_type": "code",
        "colab": {}
      },
      "source": [
        "import json\n",
        "from collections import OrderedDict\n",
        "import urllib\n",
        "from bs4 import BeautifulSoup\n",
        "import pandas as pd\n",
        "import binascii\n",
        "import pickle\n",
        "import base64\n",
        "import re\n",
        "import sys\n",
        "\n",
        "yelp=\"https://www.yelp.com\""
      ],
      "execution_count": 0,
      "outputs": []
    },
    {
      "cell_type": "code",
      "metadata": {
        "id": "aQQBLwa5KYqo",
        "colab_type": "code",
        "colab": {}
      },
      "source": [
        "'''\n",
        "transfer the original URL to 16 bit based coding address\n",
        "'''\n",
        "def transURL(s):\n",
        "    #s=\"a b c\"\n",
        "    trans=''\n",
        "    for x in s:\n",
        "        code = ord(x)\n",
        "        if (code>64 and code<91) or (code>96 and code<123) or (code>47 and code<58):\n",
        "            trans += x\n",
        "        else:\n",
        "            #trans += \"%\" + x.encode(\"hex\") #python 2.7\n",
        "            x = x.encode('utf-8') #python 3\n",
        "            trans += \"%\" + bytes.decode(base64.b16encode(x)) #python 3\n",
        "    return trans"
      ],
      "execution_count": 0,
      "outputs": []
    },
    {
      "cell_type": "code",
      "metadata": {
        "id": "lGj9pe-tuBmQ",
        "colab_type": "code",
        "colab": {}
      },
      "source": [
        "def download_images(reviewBody):\n",
        "    pre_images=reviewBody.findAll('div',{\"class\":\"photo-box photo-box--interactive is-loading\"})\n",
        "    for pre_image in pre_images:\n",
        "        image = pre_image.find('img')\n",
        "        image_url = image['data-async-src']\n",
        "        image_name = image_url.split('/')[-2]\n",
        "        urllib.urlretrieve(image_url,'pictures/'+'%s.jpg' % image_name)\n",
        "\n",
        "        more =  reviewBody.find('li',{\"class\":\"more-review-photos\"})\n",
        "        if more:\n",
        "            print more.find('a')['href']"
      ],
      "execution_count": 0,
      "outputs": []
    },
    {
      "cell_type": "code",
      "metadata": {
        "id": "cM1UvmBYhtV9",
        "colab_type": "code",
        "colab": {}
      },
      "source": [
        "def extractReviews(url, num_of_reviews, biz_id):\n",
        "\n",
        "    write_file_name = biz_id + \".json\"\n",
        "    not_scraped = open(\"/content/drive/My Drive/Yelp/not_scraped.txt\", \"w+\") \n",
        "    with open(\"/content/drive/My Drive/Yelp/Data/\" + write_file_name, \"w\") as write_file:\n",
        "      start = 0\n",
        "      num_of_items_perpage = 20\n",
        "      end = num_of_reviews\n",
        "      while (start < end):\n",
        "          url_ = url + '?start=' + str(start) + '&start='+ str(start)\n",
        "          start += num_of_items_perpage\n",
        "          #print (url_)\n",
        "          page = urllib.request.urlopen(url_)\n",
        "          soup = BeautifulSoup(page)\n",
        "          \n",
        "          #r= soup.find(\"script\",{\"type\":\"application/json\",\"data-hypernova-key\":\"yelp_main__6685fde41a25f43c936f7d1d7c8536b9cd17b120__yelp_main__BizDetailsApp__dynamic\"})\n",
        "          #r= soup.find(\"script\",{\"type\":\"application/json\",\"data-hypernova-key\":\"yelp_main__34ce8770cffec2357b054c3c9e43da6e193dbfd0__yelp_main__BizDetailsApp__dynamic\"})\n",
        "          #r= soup.find(\"script\",{\"type\":\"application/json\",\"data-hypernova-key\":\"yelp_main__dbe4f988045111aa201e743b45b6bc83f96d44d4__yelp_main__BizDetailsApp__dynamic\"})\n",
        "          #r= soup.find(\"script\",{\"type\":\"application/json\",\"data-hypernova-key\":\"yelp_main__5e83958d2ce784cbc6bb4524967f2af3e5536780__yelp_main__AdBizDetails__dynamic\"})\n",
        "          r= soup.find(\"script\",{\"type\":\"application/json\",\"data-hypernova-key\":\"yelp_main__513f34df5675b4bedb8e3adc1089cfedae7f8924__yelp_main__BizDetailsApp__dynamic\"})\n",
        "          \n",
        "          n_r = soup.find(\"a\", string=re.compile(\"not currently recommended\"))\n",
        "                                                                                 \n",
        "          \n",
        "          if not r:\n",
        "            print (url_)\n",
        "            print (\"nothing\") # make a collector\n",
        "            not_scraped.write(biz_id)\n",
        "            not_scraped.write('\\n')\n",
        "            return\n",
        "           \n",
        "          r_json = (r.text.lstrip('<!--').rstrip('-->'))\n",
        "          data_item = json.loads(r_json, object_pairs_hook=OrderedDict)\n",
        "          reviews = data_item['bizDetailsPageProps']['reviewFeedQueryProps']['reviews']\n",
        "          for item in reviews:\n",
        "            new_features_and_label = {}\n",
        "            new_features_and_label['review_id'] = item['id']\n",
        "            new_features_and_label['totalPhotos'] = item['totalPhotos']\n",
        "            new_features_and_label['voterText'] = item['feedback']['voterText']\n",
        "            new_features_and_label['label'] = 1\n",
        "            json.dump(new_features_and_label, write_file)\n",
        "            write_file.write('\\n')\n",
        "      \n",
        "      \n",
        "      n_r_URL = yelp + n_r['href']\n",
        "      n_r_Number = n_r.text.split()[0]\n",
        "      print (n_r_Number)\n",
        "      \n",
        "      start = 0\n",
        "      num_of_items_perpage = 10\n",
        "      end = int(n_r_Number)\n",
        "      while (start < end):\n",
        "          url_ = n_r_URL + '?not_recommended_start=' + str(start)\n",
        "          print (url_)\n",
        "          page = urllib.request.urlopen(url_)\n",
        "          soup = BeautifulSoup(page)\n",
        "\n",
        "          for item in soup.findAll('div',{\"class\":\"review review--with-sidebar\"}):\n",
        "              new_features_and_label = {}\n",
        "              new_features_and_label['review_id'] = item['data-review-id']\n",
        "              \n",
        "              photos = item.find(\"li\", class_=\"photo-count responsive-small-display-inline-block\")\n",
        "              if photos != None:\n",
        "                new_features_and_label['totalPhotos'] = int(photos.b.text)\n",
        "              else:\n",
        "                new_features_and_label['totalPhotos'] = 0\n",
        "\n",
        "              new_features_and_label['reviews'] = item.find('div', class_=\"review-content\").p.text\n",
        "              if start > 0 and new_features_and_label['reviews'] == \"This review has been removed for violating our Terms of Service\":\n",
        "                continue\n",
        "              new_features_and_label['label'] = 0\n",
        "              #print (reviewBody.find('p').text)\n",
        "              #ratings.append(reviewBody.div.meta['content'])\n",
        "              \n",
        "              json.dump(new_features_and_label, write_file)\n",
        "              write_file.write('\\n')\n",
        "          start += num_of_items_perpage\n",
        "    not_scraped.close()\n",
        "   \n",
        "      "
      ],
      "execution_count": 0,
      "outputs": []
    },
    {
      "cell_type": "code",
      "metadata": {
        "id": "WzXd4iKg0m4i",
        "colab_type": "code",
        "outputId": "0c3d4844-e241-4c26-ff09-e650a60d372e",
        "colab": {
          "base_uri": "https://localhost:8080/",
          "height": 445
        }
      },
      "source": [
        "'''\n",
        "Collect \"recommendated\" and \"not recommended\" reviews by business ID \n",
        "#Main entrance\n",
        "'''\n",
        "\n",
        "with open('/content/drive/My Drive/Yelp/yelp_dataset/business.json', 'r') as biz_inf:\n",
        "  i= 0\n",
        "  for idx, line in enumerate(biz_inf):\n",
        "      print (idx, line)\n",
        "      if idx >= 3:\n",
        "        break\n",
        "       \n",
        "      '''\n",
        "      read business from 'business.json'\n",
        "      '''\n",
        "      data_item = json.loads(line, object_pairs_hook=OrderedDict)\n",
        "      biz_name = data_item['name']\n",
        "      biz_id = data_item['business_id']\n",
        "      print (biz_name)\n",
        "      biz_postal = data_item['postal_code']\n",
        "      \n",
        "      '''\n",
        "      Search the business info and get the first one in the result list as the target\n",
        "      '''\n",
        "      search_url = yelp+\"/search?find_desc=\"+transURL(biz_name)+\"&find_loc=\"+transURL(biz_postal)\n",
        "      #print (search_url)\n",
        "      search_result = urllib.request.urlopen(search_url)   \n",
        "      soup = BeautifulSoup(search_result)    \n",
        "      rankings = soup.findAll(\"p\",{\"class\":\"lemon--p__373c0__3Qnnj text__373c0__2pB8f text-color--black-regular__373c0__38bRH text-align--left__373c0__2pnx_ text-size--inherit__373c0__2gFQ3\"})\n",
        "      for item in rankings:\n",
        "        if item.text[0:2]==\"1.\": #the first one in the result list\n",
        "          biz_url = yelp + item.a['href']\n",
        "          num_of_reviews = item.findNext(\"span\",{\"class\":\"lemon--span__373c0__3997G text__373c0__2pB8f reviewCount__373c0__2r4xT text-color--mid__373c0__3G312 text-align--left__373c0__2pnx_\"}).text.split()[0]\n",
        "          num_of_reviews = int(num_of_reviews)\n",
        "          \n",
        "      #print (biz_url)\n",
        "      print (num_of_reviews)\n",
        "      \n",
        "      extractReviews(biz_url, num_of_reviews, biz_id)\n",
        "\n",
        "                    "
      ],
      "execution_count": 0,
      "outputs": [
        {
          "output_type": "stream",
          "text": [
            "0 {\"business_id\":\"1SWheh84yJXfytovILXOAQ\",\"name\":\"Arizona Biltmore Golf Club\",\"address\":\"2818 E Camino Acequia Drive\",\"city\":\"Phoenix\",\"state\":\"AZ\",\"postal_code\":\"85016\",\"latitude\":33.5221425,\"longitude\":-112.0184807,\"stars\":3.0,\"review_count\":5,\"is_open\":0,\"attributes\":{\"GoodForKids\":\"False\"},\"categories\":\"Golf, Active Life\",\"hours\":null}\n",
            "\n",
            "Arizona Biltmore Golf Club\n",
            "44\n",
            "https://www.yelp.com/biz/arizona-biltmore-golf-club-phoenix-3?osq=Arizona+Biltmore+Golf+Club?start=0&start=0\n",
            "nothing\n",
            "1 {\"business_id\":\"QXAEGFB4oINsVuTFxEYKFQ\",\"name\":\"Emerald Chinese Restaurant\",\"address\":\"30 Eglinton Avenue W\",\"city\":\"Mississauga\",\"state\":\"ON\",\"postal_code\":\"L5R 3E7\",\"latitude\":43.6054989743,\"longitude\":-79.652288909,\"stars\":2.5,\"review_count\":128,\"is_open\":1,\"attributes\":{\"RestaurantsReservations\":\"True\",\"GoodForMeal\":\"{'dessert': False, 'latenight': False, 'lunch': True, 'dinner': True, 'brunch': False, 'breakfast': False}\",\"BusinessParking\":\"{'garage': False, 'street': False, 'validated': False, 'lot': True, 'valet': False}\",\"Caters\":\"True\",\"NoiseLevel\":\"u'loud'\",\"RestaurantsTableService\":\"True\",\"RestaurantsTakeOut\":\"True\",\"RestaurantsPriceRange2\":\"2\",\"OutdoorSeating\":\"False\",\"BikeParking\":\"False\",\"Ambience\":\"{'romantic': False, 'intimate': False, 'classy': False, 'hipster': False, 'divey': False, 'touristy': False, 'trendy': False, 'upscale': False, 'casual': True}\",\"HasTV\":\"False\",\"WiFi\":\"u'no'\",\"GoodForKids\":\"True\",\"Alcohol\":\"u'full_bar'\",\"RestaurantsAttire\":\"u'casual'\",\"RestaurantsGoodForGroups\":\"True\",\"RestaurantsDelivery\":\"False\"},\"categories\":\"Specialty Food, Restaurants, Dim Sum, Imported Food, Food, Chinese, Ethnic Food, Seafood\",\"hours\":{\"Monday\":\"9:0-0:0\",\"Tuesday\":\"9:0-0:0\",\"Wednesday\":\"9:0-0:0\",\"Thursday\":\"9:0-0:0\",\"Friday\":\"9:0-1:0\",\"Saturday\":\"9:0-1:0\",\"Sunday\":\"9:0-0:0\"}}\n",
            "\n",
            "Emerald Chinese Restaurant\n",
            "142\n",
            "28\n",
            "https://www.yelp.com/not_recommended_reviews/emerald-chinese-restaurant-mississauga?not_recommended_start=0\n",
            "https://www.yelp.com/not_recommended_reviews/emerald-chinese-restaurant-mississauga?not_recommended_start=10\n",
            "https://www.yelp.com/not_recommended_reviews/emerald-chinese-restaurant-mississauga?not_recommended_start=20\n",
            "2 {\"business_id\":\"gnKjwL_1w79qoiV3IC_xQQ\",\"name\":\"Musashi Japanese Restaurant\",\"address\":\"10110 Johnston Rd, Ste 15\",\"city\":\"Charlotte\",\"state\":\"NC\",\"postal_code\":\"28210\",\"latitude\":35.092564,\"longitude\":-80.859132,\"stars\":4.0,\"review_count\":170,\"is_open\":1,\"attributes\":{\"GoodForKids\":\"True\",\"NoiseLevel\":\"u'average'\",\"RestaurantsDelivery\":\"False\",\"GoodForMeal\":\"{'dessert': False, 'latenight': False, 'lunch': True, 'dinner': True, 'brunch': False, 'breakfast': False}\",\"Alcohol\":\"u'beer_and_wine'\",\"Caters\":\"False\",\"WiFi\":\"u'no'\",\"RestaurantsTakeOut\":\"True\",\"BusinessAcceptsCreditCards\":\"True\",\"Ambience\":\"{'romantic': False, 'intimate': False, 'touristy': False, 'hipster': False, 'divey': False, 'classy': False, 'trendy': False, 'upscale': False, 'casual': True}\",\"BusinessParking\":\"{'garage': False, 'street': False, 'validated': False, 'lot': True, 'valet': False}\",\"RestaurantsTableService\":\"True\",\"RestaurantsGoodForGroups\":\"True\",\"OutdoorSeating\":\"False\",\"HasTV\":\"True\",\"BikeParking\":\"True\",\"RestaurantsReservations\":\"True\",\"RestaurantsPriceRange2\":\"2\",\"RestaurantsAttire\":\"'casual'\"},\"categories\":\"Sushi Bars, Restaurants, Japanese\",\"hours\":{\"Monday\":\"17:30-21:30\",\"Wednesday\":\"17:30-21:30\",\"Thursday\":\"17:30-21:30\",\"Friday\":\"17:30-22:0\",\"Saturday\":\"17:30-22:0\",\"Sunday\":\"17:30-21:0\"}}\n",
            "\n",
            "Musashi Japanese Restaurant\n",
            "193\n",
            "29\n",
            "https://www.yelp.com/not_recommended_reviews/musashi-japanese-restaurant-charlotte?not_recommended_start=0\n",
            "https://www.yelp.com/not_recommended_reviews/musashi-japanese-restaurant-charlotte?not_recommended_start=10\n",
            "https://www.yelp.com/not_recommended_reviews/musashi-japanese-restaurant-charlotte?not_recommended_start=20\n",
            "3 {\"business_id\":\"xvX2CttrVhyG2z1dFg_0xw\",\"name\":\"Farmers Insurance - Paul Lorenz\",\"address\":\"15655 W Roosevelt St, Ste 237\",\"city\":\"Goodyear\",\"state\":\"AZ\",\"postal_code\":\"85338\",\"latitude\":33.4556129678,\"longitude\":-112.3955963552,\"stars\":5.0,\"review_count\":3,\"is_open\":1,\"attributes\":null,\"categories\":\"Insurance, Financial Services\",\"hours\":{\"Monday\":\"8:0-17:0\",\"Tuesday\":\"8:0-17:0\",\"Wednesday\":\"8:0-17:0\",\"Thursday\":\"8:0-17:0\",\"Friday\":\"8:0-17:0\"}}\n",
            "\n"
          ],
          "name": "stdout"
        }
      ]
    }
  ]
}