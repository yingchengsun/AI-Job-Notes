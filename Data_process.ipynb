{
  "nbformat": 4,
  "nbformat_minor": 0,
  "metadata": {
    "colab": {
      "name": "Data_process",
      "provenance": [],
      "collapsed_sections": [],
      "include_colab_link": true
    },
    "kernelspec": {
      "name": "python3",
      "display_name": "Python 3"
    }
  },
  "cells": [
    {
      "cell_type": "markdown",
      "metadata": {
        "id": "view-in-github",
        "colab_type": "text"
      },
      "source": [
        "<a href=\"https://colab.research.google.com/github/yingchengsun/AI-Job-Notes/blob/master/Data_process.ipynb\" target=\"_parent\"><img src=\"https://colab.research.google.com/assets/colab-badge.svg\" alt=\"Open In Colab\"/></a>"
      ]
    },
    {
      "cell_type": "code",
      "metadata": {
        "id": "nLIyqeyhguO2",
        "colab_type": "code",
        "outputId": "16ea5cd2-e8b7-4304-bdbb-7f7542b2e955",
        "colab": {
          "base_uri": "https://localhost:8080/",
          "height": 122
        }
      },
      "source": [
        "from google.colab import drive\n",
        "drive.mount('/content/drive')\n"
      ],
      "execution_count": 0,
      "outputs": [
        {
          "output_type": "stream",
          "text": [
            "Go to this URL in a browser: https://accounts.google.com/o/oauth2/auth?client_id=947318989803-6bn6qk8qdgf4n4g3pfee6491hc0brc4i.apps.googleusercontent.com&redirect_uri=urn%3Aietf%3Awg%3Aoauth%3A2.0%3Aoob&scope=email%20https%3A%2F%2Fwww.googleapis.com%2Fauth%2Fdocs.test%20https%3A%2F%2Fwww.googleapis.com%2Fauth%2Fdrive%20https%3A%2F%2Fwww.googleapis.com%2Fauth%2Fdrive.photos.readonly%20https%3A%2F%2Fwww.googleapis.com%2Fauth%2Fpeopleapi.readonly&response_type=code\n",
            "\n",
            "Enter your authorization code:\n",
            "··········\n",
            "Mounted at /content/drive\n"
          ],
          "name": "stdout"
        }
      ]
    },
    {
      "cell_type": "code",
      "metadata": {
        "id": "aS4SKFQCKS13",
        "colab_type": "code",
        "colab": {}
      },
      "source": [
        "import json\n",
        "from collections import OrderedDict\n",
        "import urllib\n",
        "from bs4 import BeautifulSoup\n",
        "import pandas as pd\n",
        "import binascii\n",
        "import pickle\n",
        "import base64\n",
        "import re\n",
        "\n",
        "yelp=\"https://www.yelp.com\""
      ],
      "execution_count": 0,
      "outputs": []
    },
    {
      "cell_type": "code",
      "metadata": {
        "id": "aQQBLwa5KYqo",
        "colab_type": "code",
        "colab": {}
      },
      "source": [
        "'''\n",
        "transfer the original URL to 16 bit based coding address\n",
        "'''\n",
        "def transURL(s):\n",
        "    #s=\"a b c\"\n",
        "    trans=''\n",
        "    for x in s:\n",
        "        code = ord(x)\n",
        "        if (code>64 and code<91) or (code>96 and code<123) or (code>47 and code<58):\n",
        "            trans += x\n",
        "        else:\n",
        "            #trans += \"%\" + x.encode(\"hex\") #python 2.7\n",
        "            x = x.encode('utf-8') #python 3\n",
        "            trans += \"%\" + bytes.decode(base64.b16encode(x)) #python 3\n",
        "    return trans"
      ],
      "execution_count": 0,
      "outputs": []
    },
    {
      "cell_type": "code",
      "metadata": {
        "id": "lGj9pe-tuBmQ",
        "colab_type": "code",
        "colab": {}
      },
      "source": [
        "def download_images(reviewBody):\n",
        "    pre_images=reviewBody.findAll('div',{\"class\":\"photo-box photo-box--interactive is-loading\"})\n",
        "    for pre_image in pre_images:\n",
        "        image = pre_image.find('img')\n",
        "        image_url = image['data-async-src']\n",
        "        image_name = image_url.split('/')[-2]\n",
        "        urllib.urlretrieve(image_url,'pictures/'+'%s.jpg' % image_name)\n",
        "\n",
        "        more =  reviewBody.find('li',{\"class\":\"more-review-photos\"})\n",
        "        if more:\n",
        "            print more.find('a')['href']"
      ],
      "execution_count": 0,
      "outputs": []
    },
    {
      "cell_type": "code",
      "metadata": {
        "id": "cM1UvmBYhtV9",
        "colab_type": "code",
        "outputId": "1f36c8ad-1784-485d-9c57-067a864008c4",
        "colab": {
          "base_uri": "https://localhost:8080/",
          "height": 374
        }
      },
      "source": [
        "def extractReviews(url):\n",
        "    start = 0\n",
        "    num_pages = 1\n",
        "    end = 20* num_pages\n",
        "\n",
        "    #ratings =[]\n",
        "    #reviews =[]\n",
        "    rid = []\n",
        "    totalPhotos = []\n",
        "    rev_scraped = {}\n",
        "    \n",
        "    while (start < end):\n",
        "        url_ = url + '?start=' + str(start)\n",
        "        start +=20\n",
        "        print (url_)\n",
        "        page = urllib.request.urlopen(url_)\n",
        "        soup = BeautifulSoup(page)\n",
        "\n",
        "        r= soup.find(\"script\",{\"type\":\"application/json\",\"data-hypernova-key\":\"yelp_main__6685fde41a25f43c936f7d1d7c8536b9cd17b120__yelp_main__BizDetailsApp__dynamic\"})\n",
        "        r_json = (r.text.lstrip('<!--').rstrip('-->'))\n",
        "        data_item = json.loads(r_json, object_pairs_hook=OrderedDict)\n",
        "        reviews = data_item['bizDetailsPageProps']['reviewFeedQueryProps']['reviews']\n",
        "        for item in reviews:\n",
        "          rid.append(item['id'])\n",
        "          print (item['totalPhotos'])\n",
        "          print (item['feedback']['voterText'])\n",
        "        #for r in soup.findAll(string=re.compile(\"s2PtRuePlmtTalWaZ-_2dA\")):\n",
        "        #  print (r)\n",
        "        '''\n",
        "        for reviewBody in soup.findAll('div',{\"itemprop\":\"review\"}):\n",
        "            print (reviewBody)\n",
        "            ratings.append(reviewBody.div.meta['content'])\n",
        "            reviews.append(reviewBody.find('p').text)\n",
        "            #download_images(reviewBody)\n",
        "    print (ratings)\n",
        "    print (reviews)\n",
        "    '''\n",
        "url = \"https://www.yelp.com/biz/emerald-chinese-restaurant-mississauga?osq=Emerald+Chinese+Restaurant?start=0\"\n",
        "extractReviews(url)"
      ],
      "execution_count": 0,
      "outputs": [
        {
          "output_type": "stream",
          "text": [
            "https://www.yelp.com/biz/emerald-chinese-restaurant-mississauga?osq=Emerald+Chinese+Restaurant?start=0?start=0\n",
            "DafRBSrCIEoq0nCzITIoog\n",
            "fP7fWf992wqkjlTcenfJcA\n",
            "IU6yg6aJEPZc7D40uA3bFQ\n",
            "aH6nrQeushCvkUqX2bqGmQ\n",
            "mvjE-QM7chMmuaghi7Rr_Q\n",
            "kOsOgmzXxZU6bjGkkjShHg\n",
            "Dx2RkfKQGjbsf2glKSc5qw\n",
            "Y-JKPycv5LcrL6DDRVjtLA\n",
            "isTvyUp-dCrEUCdkCHUsjQ\n",
            "Eqtyouaqn1gtTr8tMehF6A\n",
            "Nb_2kqrkj64TnVaOedj2FA\n",
            "jZ1qTNjwk-UXeEYNdjWzlA\n",
            "qcFgnVnGBdfebzrZdbkeHw\n",
            "Hm_UL7Y1zu4cVJehHXeDqw\n",
            "VdSZBFLAmPMbPNpGhCb6nw\n",
            "KE2EC7gIe7dUVAxx68V-MA\n",
            "Iz8xMfZDWT4HS-3cKgJIFg\n",
            "6W0MQHmasK0IsaoDo4bmkw\n",
            "7PHMFeSTOuoKDXY0C4iaHw\n",
            "yFbffgoW-CUq1eqabYlnmw\n"
          ],
          "name": "stdout"
        }
      ]
    },
    {
      "cell_type": "code",
      "metadata": {
        "id": "WzXd4iKg0m4i",
        "colab_type": "code",
        "outputId": "57042c10-d3ac-4b62-fcc6-3cab21b888a4",
        "colab": {
          "base_uri": "https://localhost:8080/",
          "height": 289
        }
      },
      "source": [
        "'''\n",
        "Collect \"recommendated\" and \"not recommended\" reviews by business ID \n",
        "#Main entrance\n",
        "'''\n",
        "\n",
        "with open('/content/drive/My Drive/Yelp/yelp_dataset/business.json', 'r') as biz_inf:\n",
        "  i= 0\n",
        "  for idx, line in enumerate(biz_inf):\n",
        "      print (idx, line)\n",
        "      if idx >2:\n",
        "        break\n",
        "       \n",
        "      '''\n",
        "      read business from 'business.json'\n",
        "      '''\n",
        "      data_item = json.loads(line, object_pairs_hook=OrderedDict)\n",
        "      biz_name = data_item['name']\n",
        "      print (biz_name)\n",
        "      biz_postal = data_item['postal_code']\n",
        "      \n",
        "      '''\n",
        "      Search the business info and get the first one in the result list as the target\n",
        "      '''\n",
        "      search_url = yelp+\"/search?find_desc=\"+transURL(biz_name)+\"&find_loc=\"+transURL(biz_postal)\n",
        "      #print (search_url)\n",
        "      search_result = urllib.request.urlopen(search_url)   \n",
        "      soup = BeautifulSoup(search_result)    \n",
        "      rankings = soup.findAll(\"p\",{\"class\":\"lemon--p__373c0__3Qnnj text__373c0__2pB8f text-color--black-regular__373c0__38bRH text-align--left__373c0__2pnx_ text-size--inherit__373c0__2gFQ3\"})\n",
        "      for item in rankings:\n",
        "        if item.text[0:2]==\"1.\": #the first one in the result list\n",
        "          biz_url = yelp + p.a['href']\n",
        "      print (biz_url)\n",
        "      \n",
        "      #extractReviews(biz_url)\n",
        "      '''\n",
        "      soup = BeautifulSoup(biz_url, 'html.parser')\n",
        "      #link = soup.find_all(\"a\", class_=\"lemon--a__373c0__IEZFH link__373c0__29943 link-color--inherit__373c0__15ymx link-size--default__373c0__1skgq\")\n",
        "      #link = soup.find_all(re.compile(\"not currently recommended\"))\n",
        "      NR = soup.find(\"a\", string=re.compile(\"not currently recommended\"))\n",
        "      NR_URL = yelp+NR['href']\n",
        "      NR_Number = NR.text.split()[0]\n",
        "      print (NR_Number)\n",
        "      extract_NR_Reviews(NR_URL)\n",
        "      '''\n",
        "                    "
      ],
      "execution_count": 44,
      "outputs": [
        {
          "output_type": "stream",
          "text": [
            "0 {\"business_id\":\"1SWheh84yJXfytovILXOAQ\",\"name\":\"Arizona Biltmore Golf Club\",\"address\":\"2818 E Camino Acequia Drive\",\"city\":\"Phoenix\",\"state\":\"AZ\",\"postal_code\":\"85016\",\"latitude\":33.5221425,\"longitude\":-112.0184807,\"stars\":3.0,\"review_count\":5,\"is_open\":0,\"attributes\":{\"GoodForKids\":\"False\"},\"categories\":\"Golf, Active Life\",\"hours\":null}\n",
            "\n",
            "Arizona Biltmore Golf Club\n",
            "https://www.yelp.com/biz/the-cowfish-sushi-burger-bar-charlotte?osq=Musashi+Japanese+Restaurant\n",
            "1 {\"business_id\":\"QXAEGFB4oINsVuTFxEYKFQ\",\"name\":\"Emerald Chinese Restaurant\",\"address\":\"30 Eglinton Avenue W\",\"city\":\"Mississauga\",\"state\":\"ON\",\"postal_code\":\"L5R 3E7\",\"latitude\":43.6054989743,\"longitude\":-79.652288909,\"stars\":2.5,\"review_count\":128,\"is_open\":1,\"attributes\":{\"RestaurantsReservations\":\"True\",\"GoodForMeal\":\"{'dessert': False, 'latenight': False, 'lunch': True, 'dinner': True, 'brunch': False, 'breakfast': False}\",\"BusinessParking\":\"{'garage': False, 'street': False, 'validated': False, 'lot': True, 'valet': False}\",\"Caters\":\"True\",\"NoiseLevel\":\"u'loud'\",\"RestaurantsTableService\":\"True\",\"RestaurantsTakeOut\":\"True\",\"RestaurantsPriceRange2\":\"2\",\"OutdoorSeating\":\"False\",\"BikeParking\":\"False\",\"Ambience\":\"{'romantic': False, 'intimate': False, 'classy': False, 'hipster': False, 'divey': False, 'touristy': False, 'trendy': False, 'upscale': False, 'casual': True}\",\"HasTV\":\"False\",\"WiFi\":\"u'no'\",\"GoodForKids\":\"True\",\"Alcohol\":\"u'full_bar'\",\"RestaurantsAttire\":\"u'casual'\",\"RestaurantsGoodForGroups\":\"True\",\"RestaurantsDelivery\":\"False\"},\"categories\":\"Specialty Food, Restaurants, Dim Sum, Imported Food, Food, Chinese, Ethnic Food, Seafood\",\"hours\":{\"Monday\":\"9:0-0:0\",\"Tuesday\":\"9:0-0:0\",\"Wednesday\":\"9:0-0:0\",\"Thursday\":\"9:0-0:0\",\"Friday\":\"9:0-1:0\",\"Saturday\":\"9:0-1:0\",\"Sunday\":\"9:0-0:0\"}}\n",
            "\n",
            "Emerald Chinese Restaurant\n",
            "https://www.yelp.com/biz/the-cowfish-sushi-burger-bar-charlotte?osq=Musashi+Japanese+Restaurant\n",
            "2 {\"business_id\":\"gnKjwL_1w79qoiV3IC_xQQ\",\"name\":\"Musashi Japanese Restaurant\",\"address\":\"10110 Johnston Rd, Ste 15\",\"city\":\"Charlotte\",\"state\":\"NC\",\"postal_code\":\"28210\",\"latitude\":35.092564,\"longitude\":-80.859132,\"stars\":4.0,\"review_count\":170,\"is_open\":1,\"attributes\":{\"GoodForKids\":\"True\",\"NoiseLevel\":\"u'average'\",\"RestaurantsDelivery\":\"False\",\"GoodForMeal\":\"{'dessert': False, 'latenight': False, 'lunch': True, 'dinner': True, 'brunch': False, 'breakfast': False}\",\"Alcohol\":\"u'beer_and_wine'\",\"Caters\":\"False\",\"WiFi\":\"u'no'\",\"RestaurantsTakeOut\":\"True\",\"BusinessAcceptsCreditCards\":\"True\",\"Ambience\":\"{'romantic': False, 'intimate': False, 'touristy': False, 'hipster': False, 'divey': False, 'classy': False, 'trendy': False, 'upscale': False, 'casual': True}\",\"BusinessParking\":\"{'garage': False, 'street': False, 'validated': False, 'lot': True, 'valet': False}\",\"RestaurantsTableService\":\"True\",\"RestaurantsGoodForGroups\":\"True\",\"OutdoorSeating\":\"False\",\"HasTV\":\"True\",\"BikeParking\":\"True\",\"RestaurantsReservations\":\"True\",\"RestaurantsPriceRange2\":\"2\",\"RestaurantsAttire\":\"'casual'\"},\"categories\":\"Sushi Bars, Restaurants, Japanese\",\"hours\":{\"Monday\":\"17:30-21:30\",\"Wednesday\":\"17:30-21:30\",\"Thursday\":\"17:30-21:30\",\"Friday\":\"17:30-22:0\",\"Saturday\":\"17:30-22:0\",\"Sunday\":\"17:30-21:0\"}}\n",
            "\n",
            "Musashi Japanese Restaurant\n",
            "https://www.yelp.com/biz/the-cowfish-sushi-burger-bar-charlotte?osq=Musashi+Japanese+Restaurant\n",
            "3 {\"business_id\":\"xvX2CttrVhyG2z1dFg_0xw\",\"name\":\"Farmers Insurance - Paul Lorenz\",\"address\":\"15655 W Roosevelt St, Ste 237\",\"city\":\"Goodyear\",\"state\":\"AZ\",\"postal_code\":\"85338\",\"latitude\":33.4556129678,\"longitude\":-112.3955963552,\"stars\":5.0,\"review_count\":3,\"is_open\":1,\"attributes\":null,\"categories\":\"Insurance, Financial Services\",\"hours\":{\"Monday\":\"8:0-17:0\",\"Tuesday\":\"8:0-17:0\",\"Wednesday\":\"8:0-17:0\",\"Thursday\":\"8:0-17:0\",\"Friday\":\"8:0-17:0\"}}\n",
            "\n"
          ],
          "name": "stdout"
        }
      ]
    },
    {
      "cell_type": "code",
      "metadata": {
        "id": "JF0fBJejeSvD",
        "colab_type": "code",
        "colab": {}
      },
      "source": [
        "def extract_NR_Reviews(url):\n",
        "    start = 0\n",
        "    num_pages = 1\n",
        "    end = 10* num_pages\n",
        "\n",
        "    ratings =[]\n",
        "    reviews =[]\n",
        "    outfile = open(\"/content/drive/My Drive/Yelp/yelp_dataset/ReviewID.txt\",'wb')\n",
        "    rids=[]\n",
        "    while (start < end):\n",
        "        url_ = url + '?start=' + str(start)\n",
        "        start +=20\n",
        "        print (url_)\n",
        "        page = urllib.request.urlopen(url_)\n",
        "        soup = BeautifulSoup(page)\n",
        "\n",
        "        for reviewBody in soup.findAll('div',{\"class\":\"review review--with-sidebar\"}):\n",
        "            rids.append(reviewBody['data-review-id'])\n",
        "            #print (reviewBody.find('p').text)\n",
        "            #ratings.append(reviewBody.div.meta['content'])\n",
        "            #reviews.append(reviewBody.find('p').text)\n",
        "            #download_images(reviewBody)\n",
        "    pickle.dump(rids,outfile)\n",
        "    outfile.close()\n",
        "    #print (ratings)\n",
        "    #print (reviews)\n",
        "    #review-wrapper"
      ],
      "execution_count": 0,
      "outputs": []
    },
    {
      "cell_type": "code",
      "metadata": {
        "id": "a0ibQQcZVUiw",
        "colab_type": "code",
        "colab": {
          "base_uri": "https://localhost:8080/",
          "height": 35
        },
        "outputId": "7079ee8b-adad-4f07-f33a-4fabfccbb199"
      },
      "source": [
        "print (1==1)"
      ],
      "execution_count": 31,
      "outputs": [
        {
          "output_type": "stream",
          "text": [
            "True\n"
          ],
          "name": "stdout"
        }
      ]
    }
  ]
}